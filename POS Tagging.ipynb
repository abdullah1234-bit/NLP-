{
 "cells": [
  {
   "cell_type": "raw",
   "id": "79bff895-9df4-411d-a708-701327795a7b",
   "metadata": {},
   "source": [
    "Inflation rose again in April, continuing a climb that has pushed consumers to the brink and is threatening the economic expansion, the Bureau of Labor Statistics reported Wednesday.\n",
    "\n",
    "The consumer price index, a broad-based measure of prices for goods and services, increased 8.3% from a year ago, higher than the Dow Jones estimate for an 8.1% gain. That represented a slight ease from March’s peak but was still close to the highest level since the summer of 1982.\n",
    "\n",
    "Removing volatile food and energy prices, so-called core CPI still rose 6.2%, against expectations for a 6% gain, clouding hopes that inflation had peaked in March.\n",
    "\n",
    "The month-over-month gains also were higher than expectations — 0.3% on headline CPI versus the 0.2% estimate and a 0.6% increase for core, against the outlook for a 0.4% gain.\n",
    "\n",
    "The price gains also meant that workers continued to lose ground. Real wages adjusted for inflation decreased 0.1% on the month despite a nominal increase of 0.3% in average hourly earnings. Over the past year, real earnings have dropped 2.6% even though average hourly earnings are up 5.5%.\n",
    "\n",
    "Inflation has been the single biggest threat to a recovery that began early in the Covid pandemic and saw the economy in 2021 stage its biggest single-year growth level since 1984. Rising prices at the pump and in grocery stores have been one problem, but inflation has spread beyond those two areas into housing, auto sales and a host of other areas.\n",
    "\n",
    "Federal Reserve officials have responded to the problem with two interest rate hikes so far this year and pledges of more until inflation comes down to the central bank’s 2% goal. However, Wednesday’s data shows that the Fed has a big job ahead.\n",
    "\n",
    "Credits: cnbc.com"
   ]
  },
  {
   "cell_type": "markdown",
   "id": "6713eebf-715c-489b-a927-8c6d5a180647",
   "metadata": {},
   "source": [
    "You are parsing a news story from cnbc.com.  You need to,Extract all NOUN tokens from this story. You will have to read the file in python first to collect all the text and then extract NOUNs in a python list\n",
    "Extract all numbers (NUM POS type) in a python list\n",
    "Print a count of all POS tags in this story\n",
    "Solution"
   ]
  },
  {
   "cell_type": "code",
   "execution_count": 5,
   "id": "2c9380f0-a8c1-4ff0-a33a-d19f6971c5b2",
   "metadata": {},
   "outputs": [
    {
     "name": "stdout",
     "output_type": "stream",
     "text": [
      "Nouns: ['Inflation', 'climb', 'consumers', 'brink', 'expansion', 'consumer', 'price', 'index', 'measure', 'prices', 'goods', 'services', '%', 'year', 'estimate', '%', 'gain', 'ease', 'peak', 'level', 'summer', 'food', 'energy', 'prices', 'core', '%', 'expectations', '%', 'gain', 'hopes', 'inflation', 'month', 'month', 'gains', 'expectations', '%', 'headline', '%', 'estimate', '%', 'increase', 'core', 'outlook', '%', 'gain', 'price', 'gains', 'workers', 'ground', 'wages', 'inflation', '%', 'month', 'increase', '%', 'earnings', 'year', 'earnings', '%', 'earnings', '%', 'Inflation', 'threat', 'recovery', 'pandemic', 'economy', 'stage', 'year', 'growth', 'level', 'prices', 'pump', 'grocery', 'stores', 'problem', 'inflation', 'areas', 'housing', 'auto', 'sales', 'host', 'areas', 'officials', 'problem', 'interest', 'rate', 'hikes', 'year', 'pledges', 'inflation', 'bank', '%', 'goal', 'data', 'job', 'Credits']\n",
      "Numbers: ['8.3', '8.1', '1982', '6.2', '6', '0.3', '0.2', '0.6', '0.4', '0.1', '0.3', '2.6', '5.5', '2021', '1984', 'one', 'two', 'two', '2']\n",
      "POS Tag Counts: {'SPACE': 9, 'NOUN': 96, 'VERB': 27, 'ADV': 15, 'ADP': 39, 'PROPN': 16, 'PUNCT': 32, 'DET': 34, 'PRON': 4, 'AUX': 13, 'CCONJ': 10, 'ADJ': 23, 'NUM': 19, 'PART': 4, 'SCONJ': 8, 'X': 1}\n"
     ]
    }
   ],
   "source": [
    "import spacy\n",
    "from collections import Counter\n",
    "\n",
    "# Load the English model in spaCy\n",
    "nlp = spacy.load(\"en_core_web_sm\")\n",
    "\n",
    "# The provided text\n",
    "text = \"\"\"\n",
    "Inflation rose again in April, continuing a climb that has pushed consumers to the brink and is threatening the economic expansion, the Bureau of Labor Statistics reported Wednesday.\n",
    "\n",
    "The consumer price index, a broad-based measure of prices for goods and services, increased 8.3% from a year ago, higher than the Dow Jones estimate for an 8.1% gain. That represented a slight ease from March’s peak but was still close to the highest level since the summer of 1982.\n",
    "\n",
    "Removing volatile food and energy prices, so-called core CPI still rose 6.2%, against expectations for a 6% gain, clouding hopes that inflation had peaked in March.\n",
    "\n",
    "The month-over-month gains also were higher than expectations — 0.3% on headline CPI versus the 0.2% estimate and a 0.6% increase for core, against the outlook for a 0.4% gain.\n",
    "\n",
    "The price gains also meant that workers continued to lose ground. Real wages adjusted for inflation decreased 0.1% on the month despite a nominal increase of 0.3% in average hourly earnings. Over the past year, real earnings have dropped 2.6% even though average hourly earnings are up 5.5%.\n",
    "\n",
    "Inflation has been the single biggest threat to a recovery that began early in the Covid pandemic and saw the economy in 2021 stage its biggest single-year growth level since 1984. Rising prices at the pump and in grocery stores have been one problem, but inflation has spread beyond those two areas into housing, auto sales and a host of other areas.\n",
    "\n",
    "Federal Reserve officials have responded to the problem with two interest rate hikes so far this year and pledges of more until inflation comes down to the central bank’s 2% goal. However, Wednesday’s data shows that the Fed has a big job ahead.\n",
    "\n",
    "Credits: cnbc.com\n",
    "\"\"\"\n",
    "\n",
    "# Process the text\n",
    "doc = nlp(text)\n",
    "\n",
    "# Extract nouns and numbers\n",
    "nouns = [token.text for token in doc if token.pos_ == \"NOUN\"]\n",
    "numbers = [token.text for token in doc if token.pos_ == \"NUM\"]\n",
    "\n",
    "# Count all POS tags\n",
    "pos_counts = Counter(token.pos_ for token in doc)\n",
    "\n",
    "# Print results\n",
    "print(\"Nouns:\", nouns)\n",
    "print(\"Numbers:\", numbers)\n",
    "print(\"POS Tag Counts:\", dict(pos_counts))\n"
   ]
  },
  {
   "cell_type": "code",
   "execution_count": null,
   "id": "3ab4ed68-f8dd-42c4-85dd-771dc03c1c0f",
   "metadata": {},
   "outputs": [],
   "source": []
  }
 ],
 "metadata": {
  "kernelspec": {
   "display_name": "Python 3 (ipykernel)",
   "language": "python",
   "name": "python3"
  },
  "language_info": {
   "codemirror_mode": {
    "name": "ipython",
    "version": 3
   },
   "file_extension": ".py",
   "mimetype": "text/x-python",
   "name": "python",
   "nbconvert_exporter": "python",
   "pygments_lexer": "ipython3",
   "version": "3.12.7"
  }
 },
 "nbformat": 4,
 "nbformat_minor": 5
}
