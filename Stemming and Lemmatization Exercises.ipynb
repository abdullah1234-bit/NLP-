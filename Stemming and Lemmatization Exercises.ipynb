{
 "cells": [
  {
   "cell_type": "code",
   "execution_count": 1,
   "id": "f020b00e-48f1-4f02-8a15-5a24072274ae",
   "metadata": {},
   "outputs": [],
   "source": [
    "import spacy"
   ]
  },
  {
   "cell_type": "code",
   "execution_count": 3,
   "id": "f80033d3-80a2-4310-8804-3015df9384f0",
   "metadata": {},
   "outputs": [],
   "source": [
    "nlp = spacy.load(\"en_core_web_sm\")"
   ]
  },
  {
   "cell_type": "code",
   "execution_count": 9,
   "id": "c555b00c-175a-4bde-ae5e-dcfd8072a957",
   "metadata": {},
   "outputs": [
    {
     "name": "stdout",
     "output_type": "stream",
     "text": [
      "running\n",
      "painting\n",
      "walking\n",
      "dressing\n",
      "likely\n",
      "children\n",
      "who\n",
      "good\n",
      "ate\n",
      "fishing\n"
     ]
    }
   ],
   "source": [
    "doc = nlp(\"running painting walking dressing likely children who good ate fishing\")\n",
    "for token in doc:\n",
    "  print (token)"
   ]
  },
  {
   "cell_type": "code",
   "execution_count": 15,
   "id": "4fb992da-9b69-417e-a6ee-d7d491e8135c",
   "metadata": {},
   "outputs": [
    {
     "name": "stdout",
     "output_type": "stream",
     "text": [
      "Word\tLemma\n",
      "running  | \trun\n",
      "painting  | \tpainting\n",
      "walking  | \twalking\n",
      "dressing  | \tdress\n",
      "likely  | \tlikely\n",
      "children  | \tchild\n",
      "who  | \twho\n",
      "good  | \tgood\n",
      "ate  | \teat\n",
      "fishing  | \tfish\n"
     ]
    }
   ],
   "source": [
    "print(\"Word\\tLemma\")\n",
    "for token in doc:\n",
    "    lemma = token.lemma_             # Lemmatization\n",
    "    print(f\"{token.text}  | \\t{lemma}\")"
   ]
  },
  {
   "cell_type": "code",
   "execution_count": 19,
   "id": "9f8a7f49-ea3f-4198-a139-6907734a48b7",
   "metadata": {},
   "outputs": [
    {
     "name": "stdout",
     "output_type": "stream",
     "text": [
      "Original Text:\n",
      " Latha is very multi talented girl.She is good at many skills like dancing, running, singing, playing.She also likes eating Pav Bhagi. \n",
      "she has a habit of fishing and swimming too.Besides all this, she is a wonderful at cooking too.\n",
      "\n",
      "Lemmatized Text:\n",
      " Latha be very multi talented girl . she be good at many skill like dancing , running , singing , play . she also like eat Pav Bhagi . \n",
      " she have a habit of fishing and swim too . besides all this , she be a wonderful at cook too .\n"
     ]
    }
   ],
   "source": [
    "import spacy\n",
    "\n",
    "# Load the pre-trained English model\n",
    "nlp = spacy.load(\"en_core_web_sm\")\n",
    "\n",
    "# Input text\n",
    "text = \"\"\"Latha is very multi talented girl.She is good at many skills like dancing, running, singing, playing.She also likes eating Pav Bhagi. \n",
    "she has a habit of fishing and swimming too.Besides all this, she is a wonderful at cooking too.\"\"\"\n",
    "\n",
    "# Process the text with spaCy\n",
    "doc = nlp(text)\n",
    "\n",
    "# Extract lemmatized forms of each word\n",
    "lemmatized_text = \" \".join([token.lemma_ for token in doc])\n",
    "print(\"Original Text:\\n\", text)\n",
    "print(\"\\nLemmatized Text:\\n\", lemmatized_text)\n"
   ]
  },
  {
   "cell_type": "code",
   "execution_count": null,
   "id": "8de17ea9-b7e8-4403-ab89-1b64068b4dc7",
   "metadata": {},
   "outputs": [],
   "source": []
  }
 ],
 "metadata": {
  "kernelspec": {
   "display_name": "Python 3 (ipykernel)",
   "language": "python",
   "name": "python3"
  },
  "language_info": {
   "codemirror_mode": {
    "name": "ipython",
    "version": 3
   },
   "file_extension": ".py",
   "mimetype": "text/x-python",
   "name": "python",
   "nbconvert_exporter": "python",
   "pygments_lexer": "ipython3",
   "version": "3.12.7"
  }
 },
 "nbformat": 4,
 "nbformat_minor": 5
}
