{
  "cells": [
    {
      "cell_type": "markdown",
      "metadata": {
        "id": "view-in-github",
        "colab_type": "text"
      },
      "source": [
        "<a href=\"https://colab.research.google.com/github/abdullah1234-bit/NLP-/blob/main/bag_of_words_exercise_questions.ipynb\" target=\"_parent\"><img src=\"https://colab.research.google.com/assets/colab-badge.svg\" alt=\"Open In Colab\"/></a>"
      ]
    },
    {
      "cell_type": "markdown",
      "metadata": {
        "id": "KYoVrnewenmh"
      },
      "source": [
        "### Bag of words: Exercises\n",
        "\n",
        "\n",
        "- In this Exercise, you are going to classify whether a given movie review is **positive or negative**.\n",
        "- you are going to use Bag of words for pre-processing the text and apply different classification algorithms.\n",
        "- Sklearn CountVectorizer has the inbuilt implementations for Bag of Words."
      ]
    },
    {
      "cell_type": "code",
      "execution_count": 1,
      "metadata": {
        "id": "JW6MPIjib_4G"
      },
      "outputs": [],
      "source": [
        "#Import necessary libraries\n",
        "\n",
        "import pandas as pd\n",
        "import numpy as np\n",
        "from sklearn.model_selection import train_test_split\n",
        "from sklearn.feature_extraction.text import CountVectorizer\n",
        "from sklearn.ensemble import RandomForestClassifier\n",
        "from  sklearn.neighbors import KNeighborsClassifier\n",
        "from sklearn.naive_bayes import MultinomialNB\n",
        "from sklearn.pipeline import Pipeline\n",
        "from sklearn.metrics import classification_report"
      ]
    },
    {
      "cell_type": "markdown",
      "metadata": {
        "id": "kDATDCL8NMML"
      },
      "source": [
        "### **About Data: IMDB Dataset**\n",
        "\n",
        "Credits: https://www.kaggle.com/datasets/lakshmi25npathi/imdb-dataset-of-50k-movie-reviews?resource=download\n",
        "\n",
        "\n",
        "- This data consists of two columns.\n",
        "        - review\n",
        "        - sentiment\n",
        "- Reviews are the statements given by users after watching the movie.\n",
        "- sentiment feature tells whether the given review is positive or negative."
      ]
    },
    {
      "cell_type": "code",
      "execution_count": 7,
      "metadata": {
        "colab": {
          "base_uri": "https://localhost:8080/"
        },
        "id": "beL29JwEb_7O",
        "outputId": "4d2ebc28-f365-46aa-c323-058ae2f8406a"
      },
      "outputs": [
        {
          "output_type": "stream",
          "name": "stdout",
          "text": [
            "Shape of the data: (50000, 2)\n",
            "Top 5 datapoints:\n",
            "                                              review sentiment\n",
            "0  One of the other reviewers has mentioned that ...  positive\n",
            "1  A wonderful little production. <br /><br />The...  positive\n",
            "2  I thought this was a wonderful way to spend ti...  positive\n",
            "3  Basically there's a family where a little boy ...  negative\n",
            "4  Petter Mattei's \"Love in the Time of Money\" is...  positive\n"
          ]
        }
      ],
      "source": [
        "# 1. Read the data provided in the same directory with the name 'movies_sentiment_data.csv'\n",
        "df = pd.read_csv('/content/IMDB Dataset.csv', quotechar='\"')\n",
        "df = pd.read_csv('/content/IMDB Dataset.csv', on_bad_lines='skip')\n",
        "df = pd.read_csv('/content/IMDB Dataset.csv', low_memory=False)\n",
        "df = pd.read_csv('/content/IMDB Dataset.csv', encoding='utf-8')\n",
        "\n",
        "df = pd.read_csv('/content/IMDB Dataset.csv')\n",
        "\n",
        "# 2. Print the shape of the data\n",
        "print(\"Shape of the data:\", df.shape)\n",
        "\n",
        "# 3. Print the top 5 datapoints\n",
        "print(\"Top 5 datapoints:\")\n",
        "print(df.head())"
      ]
    },
    {
      "cell_type": "code",
      "execution_count": 9,
      "metadata": {
        "colab": {
          "base_uri": "https://localhost:8080/"
        },
        "id": "uVMFCzyQW5DO",
        "outputId": "aef369f9-178b-443e-831a-499cfd2235ea"
      },
      "outputs": [
        {
          "output_type": "stream",
          "name": "stdout",
          "text": [
            "                                              review sentiment  Category\n",
            "0  One of the other reviewers has mentioned that ...  positive         1\n",
            "1  A wonderful little production. <br /><br />The...  positive         1\n",
            "2  I thought this was a wonderful way to spend ti...  positive         1\n",
            "3  Basically there's a family where a little boy ...  negative         0\n",
            "4  Petter Mattei's \"Love in the Time of Money\" is...  positive         1\n"
          ]
        }
      ],
      "source": [
        "#creating a new column \"Category\" which represent 1 if the sentiment is positive or 0 if it is negative\n",
        "df['Category'] = df['sentiment'].apply(lambda x: 1 if x == 'positive' else 0)\n",
        "\n",
        "# Checking the first few rows to verify\n",
        "print(df.head())\n"
      ]
    },
    {
      "cell_type": "code",
      "execution_count": 10,
      "metadata": {
        "colab": {
          "base_uri": "https://localhost:8080/",
          "height": 536
        },
        "id": "OSwPM7mub_9S",
        "outputId": "40469899-7441-4080-ab23-0246275ad2ab"
      },
      "outputs": [
        {
          "output_type": "stream",
          "name": "stdout",
          "text": [
            "Category\n",
            "1    25000\n",
            "0    25000\n",
            "Name: count, dtype: int64\n"
          ]
        },
        {
          "output_type": "display_data",
          "data": {
            "text/plain": [
              "<Figure size 640x480 with 1 Axes>"
            ],
            "image/png": "[encoded data removed]"
          },
          "metadata": {}
        }
      ],
      "source": [
        "#check the distribution of 'Category' and see whether the Target labels are balanced or not.\n",
        "# Checking the distribution of the 'Category' column\n",
        "category_distribution = df['Category'].value_counts()\n",
        "\n",
        "# Printing the distribution\n",
        "print(category_distribution)\n",
        "\n",
        "# Optionally, plotting the distribution\n",
        "import matplotlib.pyplot as plt\n",
        "\n",
        "category_distribution.plot(kind='bar')\n",
        "plt.title('Distribution of Target Labels (Category)')\n",
        "plt.xlabel('Category')\n",
        "plt.ylabel('Count')\n",
        "plt.show()\n",
        "\n"
      ]
    },
    {
      "cell_type": "code",
      "execution_count": 13,
      "metadata": {
        "id": "IB97QiFCcAAe",
        "colab": {
          "base_uri": "https://localhost:8080/"
        },
        "outputId": "258b3f73-9c33-4609-c64c-a45d0f763575"
      },
      "outputs": [
        {
          "output_type": "stream",
          "name": "stdout",
          "text": [
            "Training data size: (40000,)\n",
            "Test data size: (10000,)\n"
          ]
        }
      ],
      "source": [
        "#Do the 'train-test' splitting with test size of 20%\n",
        "# Assuming 'df' is the dataframe and 'Message' is the text column, and 'Category' is the target column\n",
        "X = df['review']  # Feature: the text column\n",
        "y = df['Category']  # Target: the sentiment column\n",
        "\n",
        "# Splitting the data into training and testing sets with 20% for testing\n",
        "X_train, X_test, y_train, y_test = train_test_split(X, y, test_size=0.2, random_state=42)\n",
        "\n",
        "# Optionally, you can check the shapes of the resulting sets\n",
        "print(\"Training data size:\", X_train.shape)\n",
        "print(\"Test data size:\", X_test.shape)\n"
      ]
    },
    {
      "cell_type": "code",
      "execution_count": 14,
      "metadata": {
        "colab": {
          "base_uri": "https://localhost:8080/"
        },
        "id": "CbldZv03MWkB",
        "outputId": "e38dddc6-65e2-4a77-cfbe-05e04f71dee5"
      },
      "outputs": [
        {
          "output_type": "stream",
          "name": "stdout",
          "text": [
            "              precision    recall  f1-score   support\n",
            "\n",
            "           0       0.83      0.85      0.84      4961\n",
            "           1       0.85      0.83      0.84      5039\n",
            "\n",
            "    accuracy                           0.84     10000\n",
            "   macro avg       0.84      0.84      0.84     10000\n",
            "weighted avg       0.84      0.84      0.84     10000\n",
            "\n"
          ]
        }
      ],
      "source": [
        "clf = Pipeline([\n",
        "    ('vectorizer', CountVectorizer()),  # Convert text to word counts\n",
        "    ('rf', RandomForestClassifier(n_estimators=50, criterion='entropy', random_state=42))  # Random Forest Classifier\n",
        "])\n",
        "\n",
        "# Train the model using the training data\n",
        "clf.fit(X_train, y_train)\n",
        "\n",
        "# Make predictions on the test set\n",
        "y_pred = clf.predict(X_test)\n",
        "\n",
        "# Print the classification report\n",
        "print(classification_report(y_test, y_pred))"
      ]
    },
    {
      "cell_type": "code",
      "execution_count": 15,
      "metadata": {
        "colab": {
          "base_uri": "https://localhost:8080/"
        },
        "id": "tYkY77S6MWng",
        "outputId": "98e9954a-ed41-4f06-bd1a-462cafc8341d"
      },
      "outputs": [
        {
          "output_type": "stream",
          "name": "stdout",
          "text": [
            "              precision    recall  f1-score   support\n",
            "\n",
            "           0       0.66      0.65      0.66      4961\n",
            "           1       0.66      0.67      0.66      5039\n",
            "\n",
            "    accuracy                           0.66     10000\n",
            "   macro avg       0.66      0.66      0.66     10000\n",
            "weighted avg       0.66      0.66      0.66     10000\n",
            "\n"
          ]
        }
      ],
      "source": [
        "pipeline = Pipeline([\n",
        "    ('vectorizer', CountVectorizer()),  # Convert text to feature vectors\n",
        "    ('knn', KNeighborsClassifier(n_neighbors=10, metric='euclidean'))  # KNN Classifier\n",
        "])\n",
        "\n",
        "# Fitting the pipeline to the training data\n",
        "pipeline.fit(X_train, y_train)\n",
        "\n",
        "# Making predictions on the test data\n",
        "y_pred = pipeline.predict(X_test)\n",
        "\n",
        "# Printing the classification report\n",
        "print(classification_report(y_test, y_pred))\n"
      ]
    },
    {
      "cell_type": "code",
      "execution_count": 16,
      "metadata": {
        "colab": {
          "base_uri": "https://localhost:8080/"
        },
        "id": "_EdyxZUuW5DZ",
        "outputId": "1b1d9457-1e36-43f6-a0e8-d4f3b3fa5a2e"
      },
      "outputs": [
        {
          "output_type": "stream",
          "name": "stdout",
          "text": [
            "              precision    recall  f1-score   support\n",
            "\n",
            "           0       0.83      0.88      0.85      4961\n",
            "           1       0.87      0.82      0.85      5039\n",
            "\n",
            "    accuracy                           0.85     10000\n",
            "   macro avg       0.85      0.85      0.85     10000\n",
            "weighted avg       0.85      0.85      0.85     10000\n",
            "\n"
          ]
        }
      ],
      "source": [
        "\n",
        "pipeline = Pipeline([\n",
        "    ('vectorizer', CountVectorizer()),  # Convert text to feature vectors\n",
        "    ('nb', MultinomialNB())  # Multinomial Naive Bayes classifier\n",
        "])\n",
        "\n",
        "# Fitting the pipeline to the training data\n",
        "pipeline.fit(X_train, y_train)\n",
        "\n",
        "# Making predictions on the test data\n",
        "y_pred = pipeline.predict(X_test)\n",
        "\n",
        "# Printing the classification report\n",
        "print(classification_report(y_test, y_pred))\n"
      ]
    }
  ],
  "metadata": {
    "colab": {
      "provenance": [],
      "include_colab_link": true
    },
    "kernelspec": {
      "display_name": "Python 3 (ipykernel)",
      "language": "python",
      "name": "python3"
    },
    "language_info": {
      "codemirror_mode": {
        "name": "ipython",
        "version": 3
      },
      "file_extension": ".py",
      "mimetype": "text/x-python",
      "name": "python",
      "nbconvert_exporter": "python",
      "pygments_lexer": "ipython3",
      "version": "3.8.10"
    }
  },
  "nbformat": 4,
  "nbformat_minor": 0
}